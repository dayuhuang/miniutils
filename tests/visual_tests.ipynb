{
 "cells": [
  {
   "cell_type": "code",
   "execution_count": 8,
   "metadata": {},
   "outputs": [
    {
     "name": "stdout",
     "output_type": "stream",
     "text": [
      "[0, 1, 4, 9, 16]\n",
      "[0.0, 0.0, 0.0, 0.0, 0.0, 0.0, 0.2, 0.4, 0.6000000000000001, 0.8, 0.0, 0.4, 0.8, 1.2000000000000002, 1.6, 0.0, 0.6, 1.2, 1.7999999999999998, 2.4, 0.0, 0.8, 1.6, 2.4000000000000004, 3.2]\n"
     ]
    }
   ],
   "source": [
    "from miniutils.progress_bar import progbar, parallel_progbar, iparallel_progbar\n",
    "import time\n",
    "\n",
    "def mapper(x):\n",
    "    time.sleep(1)\n",
    "    return x ** 2\n",
    "\n",
    "def flatmapper(x):\n",
    "    interval = x / 5\n",
    "    return [i * interval for i in range(5) if time.sleep(0.2) is None]\n",
    "\n",
    "lst = list(range(5))\n",
    "long_lst = list(range(50))\n",
    "\n",
    "print([mapper(x) for x in lst])\n",
    "print([y for x in lst for y in flatmapper(x)])"
   ]
  },
  {
   "cell_type": "code",
   "execution_count": 3,
   "metadata": {},
   "outputs": [
    {
     "data": {
      "application/vnd.jupyter.widget-view+json": {
       "model_id": "6b51262de48e42bea1907d6e36357dfe",
       "version_major": 2,
       "version_minor": 0
      },
      "text/plain": [
       "A Jupyter Widget"
      ]
     },
     "metadata": {},
     "output_type": "display_data"
    },
    {
     "name": "stdout",
     "output_type": "stream",
     "text": [
      "\n"
     ]
    },
    {
     "data": {
      "text/plain": [
       "[0, 1, 4, 9, 16]"
      ]
     },
     "execution_count": 3,
     "metadata": {},
     "output_type": "execute_result"
    }
   ],
   "source": [
    "[mapper(x) for x in progbar(lst)]"
   ]
  },
  {
   "cell_type": "code",
   "execution_count": 4,
   "metadata": {},
   "outputs": [
    {
     "data": {
      "application/vnd.jupyter.widget-view+json": {
       "model_id": "0e62685e2959429cb20f05e025e012bf",
       "version_major": 2,
       "version_minor": 0
      },
      "text/plain": [
       "A Jupyter Widget"
      ]
     },
     "metadata": {},
     "output_type": "display_data"
    },
    {
     "name": "stdout",
     "output_type": "stream",
     "text": [
      "\n"
     ]
    },
    {
     "data": {
      "text/plain": [
       "[0, 1, 4, 9, 16]"
      ]
     },
     "execution_count": 4,
     "metadata": {},
     "output_type": "execute_result"
    }
   ],
   "source": [
    "parallel_progbar(mapper, lst, nprocs=2)"
   ]
  },
  {
   "cell_type": "code",
   "execution_count": 5,
   "metadata": {},
   "outputs": [
    {
     "data": {
      "application/vnd.jupyter.widget-view+json": {
       "model_id": "cf02d574068a4a3286fab37dc63d1657",
       "version_major": 2,
       "version_minor": 0
      },
      "text/plain": [
       "A Jupyter Widget"
      ]
     },
     "metadata": {},
     "output_type": "display_data"
    },
    {
     "name": "stdout",
     "output_type": "stream",
     "text": [
      "0\n",
      "1\n",
      "4\n",
      "9\n",
      "16\n",
      "\n"
     ]
    }
   ],
   "source": [
    "for k in iparallel_progbar(mapper, lst, nprocs=2):\n",
    "    print(k, flush=True)"
   ]
  },
  {
   "cell_type": "code",
   "execution_count": 6,
   "metadata": {},
   "outputs": [
    {
     "data": {
      "application/vnd.jupyter.widget-view+json": {
       "model_id": "57467c3e074940428034a60191360d3e",
       "version_major": 2,
       "version_minor": 0
      },
      "text/plain": [
       "A Jupyter Widget"
      ]
     },
     "metadata": {},
     "output_type": "display_data"
    },
    {
     "data": {
      "application/vnd.jupyter.widget-view+json": {
       "model_id": "2504aedd22ee4c6c9cf419cffb013109",
       "version_major": 2,
       "version_minor": 0
      },
      "text/plain": [
       "A Jupyter Widget"
      ]
     },
     "metadata": {},
     "output_type": "display_data"
    },
    {
     "name": "stdout",
     "output_type": "stream",
     "text": [
      "\n"
     ]
    },
    {
     "data": {
      "text/plain": [
       "[0.0,\n",
       " 0.0,\n",
       " 0.0,\n",
       " 0.0,\n",
       " 0.0,\n",
       " 0.0,\n",
       " 0.2,\n",
       " 0.4,\n",
       " 0.6000000000000001,\n",
       " 0.8,\n",
       " 0.0,\n",
       " 0.4,\n",
       " 0.8,\n",
       " 1.2000000000000002,\n",
       " 1.6,\n",
       " 0.0,\n",
       " 0.6,\n",
       " 1.2,\n",
       " 1.7999999999999998,\n",
       " 2.4,\n",
       " 0.0,\n",
       " 0.8,\n",
       " 1.6,\n",
       " 2.4000000000000004,\n",
       " 3.2]"
      ]
     },
     "execution_count": 6,
     "metadata": {},
     "output_type": "execute_result"
    }
   ],
   "source": [
    "parallel_progbar(flatmapper, lst, nprocs=2, flatmap=True)"
   ]
  },
  {
   "cell_type": "code",
   "execution_count": 7,
   "metadata": {},
   "outputs": [
    {
     "data": {
      "application/vnd.jupyter.widget-view+json": {
       "model_id": "074d42b4898a4b4bad9d49a156380671",
       "version_major": 2,
       "version_minor": 0
      },
      "text/plain": [
       "A Jupyter Widget"
      ]
     },
     "metadata": {},
     "output_type": "display_data"
    },
    {
     "data": {
      "application/vnd.jupyter.widget-view+json": {
       "model_id": "6fbe100381e14265a76cb3d3657269b2",
       "version_major": 2,
       "version_minor": 0
      },
      "text/plain": [
       "A Jupyter Widget"
      ]
     },
     "metadata": {},
     "output_type": "display_data"
    },
    {
     "name": "stdout",
     "output_type": "stream",
     "text": [
      "0.0\n",
      "0.0\n",
      "0.0\n",
      "0.0\n",
      "0.6\n",
      "0.0\n",
      "0.4\n",
      "0.8\n",
      "0.0\n",
      "0.0\n",
      "0.2\n",
      "0.8\n",
      "1.2\n",
      "1.6\n",
      "1.2000000000000002\n",
      "2.4000000000000004\n",
      "0.0\n",
      "1.7999999999999998\n",
      "0.0\n",
      "1.6\n",
      "0.4\n",
      "0.6000000000000001\n",
      "0.8\n",
      "3.2\n",
      "2.4\n",
      "\n"
     ]
    }
   ],
   "source": [
    "for k in iparallel_progbar(flatmapper, lst, nprocs=len(lst), flatmap=True):\n",
    "    print(k, flush=True)"
   ]
  },
  {
   "cell_type": "code",
   "execution_count": 9,
   "metadata": {},
   "outputs": [
    {
     "data": {
      "application/vnd.jupyter.widget-view+json": {
       "model_id": "c5f3151b309d44abaf4ff00379eee482",
       "version_major": 2,
       "version_minor": 0
      },
      "text/plain": [
       "A Jupyter Widget"
      ]
     },
     "metadata": {},
     "output_type": "display_data"
    },
    {
     "data": {
      "application/vnd.jupyter.widget-view+json": {
       "model_id": "4ee6a8657e184dd18e3344a7070be252",
       "version_major": 2,
       "version_minor": 0
      },
      "text/plain": [
       "A Jupyter Widget"
      ]
     },
     "metadata": {},
     "output_type": "display_data"
    },
    {
     "name": "stdout",
     "output_type": "stream",
     "text": [
      "\n"
     ]
    },
    {
     "data": {
      "text/plain": [
       "[0.0,\n",
       " 0.0,\n",
       " 0.0,\n",
       " 0.0,\n",
       " 0.0,\n",
       " 0.0,\n",
       " 0.2,\n",
       " 0.4,\n",
       " 0.6000000000000001,\n",
       " 0.8,\n",
       " 0.0,\n",
       " 0.4,\n",
       " 0.8,\n",
       " 1.2000000000000002,\n",
       " 1.6,\n",
       " 0.0,\n",
       " 0.6,\n",
       " 1.2,\n",
       " 1.7999999999999998,\n",
       " 2.4,\n",
       " 0.0,\n",
       " 0.8,\n",
       " 1.6,\n",
       " 2.4000000000000004,\n",
       " 3.2,\n",
       " 0.0,\n",
       " 1.0,\n",
       " 2.0,\n",
       " 3.0,\n",
       " 4.0,\n",
       " 0.0,\n",
       " 1.2,\n",
       " 2.4,\n",
       " 3.5999999999999996,\n",
       " 4.8,\n",
       " 0.0,\n",
       " 1.4,\n",
       " 2.8,\n",
       " 4.199999999999999,\n",
       " 5.6,\n",
       " 0.0,\n",
       " 1.6,\n",
       " 3.2,\n",
       " 4.800000000000001,\n",
       " 6.4,\n",
       " 0.0,\n",
       " 1.8,\n",
       " 3.6,\n",
       " 5.4,\n",
       " 7.2,\n",
       " 0.0,\n",
       " 2.0,\n",
       " 4.0,\n",
       " 6.0,\n",
       " 8.0,\n",
       " 0.0,\n",
       " 2.2,\n",
       " 4.4,\n",
       " 6.6000000000000005,\n",
       " 8.8,\n",
       " 0.0,\n",
       " 2.4,\n",
       " 4.8,\n",
       " 7.199999999999999,\n",
       " 9.6,\n",
       " 0.0,\n",
       " 2.6,\n",
       " 5.2,\n",
       " 7.800000000000001,\n",
       " 10.4,\n",
       " 0.0,\n",
       " 2.8,\n",
       " 5.6,\n",
       " 8.399999999999999,\n",
       " 11.2,\n",
       " 0.0,\n",
       " 3.0,\n",
       " 6.0,\n",
       " 9.0,\n",
       " 12.0,\n",
       " 0.0,\n",
       " 3.2,\n",
       " 6.4,\n",
       " 9.600000000000001,\n",
       " 12.8,\n",
       " 0.0,\n",
       " 3.4,\n",
       " 6.8,\n",
       " 10.2,\n",
       " 13.6,\n",
       " 0.0,\n",
       " 3.6,\n",
       " 7.2,\n",
       " 10.8,\n",
       " 14.4,\n",
       " 0.0,\n",
       " 3.8,\n",
       " 7.6,\n",
       " 11.399999999999999,\n",
       " 15.2,\n",
       " 0.0,\n",
       " 4.0,\n",
       " 8.0,\n",
       " 12.0,\n",
       " 16.0,\n",
       " 0.0,\n",
       " 4.2,\n",
       " 8.4,\n",
       " 12.600000000000001,\n",
       " 16.8,\n",
       " 0.0,\n",
       " 4.4,\n",
       " 8.8,\n",
       " 13.200000000000001,\n",
       " 17.6,\n",
       " 0.0,\n",
       " 4.6,\n",
       " 9.2,\n",
       " 13.799999999999999,\n",
       " 18.4,\n",
       " 0.0,\n",
       " 4.8,\n",
       " 9.6,\n",
       " 14.399999999999999,\n",
       " 19.2,\n",
       " 0.0,\n",
       " 5.0,\n",
       " 10.0,\n",
       " 15.0,\n",
       " 20.0,\n",
       " 0.0,\n",
       " 5.2,\n",
       " 10.4,\n",
       " 15.600000000000001,\n",
       " 20.8,\n",
       " 0.0,\n",
       " 5.4,\n",
       " 10.8,\n",
       " 16.200000000000003,\n",
       " 21.6,\n",
       " 0.0,\n",
       " 5.6,\n",
       " 11.2,\n",
       " 16.799999999999997,\n",
       " 22.4,\n",
       " 0.0,\n",
       " 5.8,\n",
       " 11.6,\n",
       " 17.4,\n",
       " 23.2,\n",
       " 0.0,\n",
       " 6.0,\n",
       " 12.0,\n",
       " 18.0,\n",
       " 24.0,\n",
       " 0.0,\n",
       " 6.2,\n",
       " 12.4,\n",
       " 18.6,\n",
       " 24.8,\n",
       " 0.0,\n",
       " 6.4,\n",
       " 12.8,\n",
       " 19.200000000000003,\n",
       " 25.6,\n",
       " 0.0,\n",
       " 6.6,\n",
       " 13.2,\n",
       " 19.799999999999997,\n",
       " 26.4,\n",
       " 0.0,\n",
       " 6.8,\n",
       " 13.6,\n",
       " 20.4,\n",
       " 27.2,\n",
       " 0.0,\n",
       " 7.0,\n",
       " 14.0,\n",
       " 21.0,\n",
       " 28.0,\n",
       " 0.0,\n",
       " 7.2,\n",
       " 14.4,\n",
       " 21.6,\n",
       " 28.8,\n",
       " 0.0,\n",
       " 7.4,\n",
       " 14.8,\n",
       " 22.200000000000003,\n",
       " 29.6,\n",
       " 0.0,\n",
       " 7.6,\n",
       " 15.2,\n",
       " 22.799999999999997,\n",
       " 30.4,\n",
       " 0.0,\n",
       " 7.8,\n",
       " 15.6,\n",
       " 23.4,\n",
       " 31.2,\n",
       " 0.0,\n",
       " 8.0,\n",
       " 16.0,\n",
       " 24.0,\n",
       " 32.0,\n",
       " 0.0,\n",
       " 8.2,\n",
       " 16.4,\n",
       " 24.599999999999998,\n",
       " 32.8,\n",
       " 0.0,\n",
       " 8.4,\n",
       " 16.8,\n",
       " 25.200000000000003,\n",
       " 33.6,\n",
       " 0.0,\n",
       " 8.6,\n",
       " 17.2,\n",
       " 25.799999999999997,\n",
       " 34.4,\n",
       " 0.0,\n",
       " 8.8,\n",
       " 17.6,\n",
       " 26.400000000000002,\n",
       " 35.2,\n",
       " 0.0,\n",
       " 9.0,\n",
       " 18.0,\n",
       " 27.0,\n",
       " 36.0,\n",
       " 0.0,\n",
       " 9.2,\n",
       " 18.4,\n",
       " 27.599999999999998,\n",
       " 36.8,\n",
       " 0.0,\n",
       " 9.4,\n",
       " 18.8,\n",
       " 28.200000000000003,\n",
       " 37.6,\n",
       " 0.0,\n",
       " 9.6,\n",
       " 19.2,\n",
       " 28.799999999999997,\n",
       " 38.4,\n",
       " 0.0,\n",
       " 9.8,\n",
       " 19.6,\n",
       " 29.400000000000002,\n",
       " 39.2]"
      ]
     },
     "execution_count": 9,
     "metadata": {},
     "output_type": "execute_result"
    }
   ],
   "source": [
    "parallel_progbar(flatmapper, long_lst, nprocs=len(lst), flatmap=True)"
   ]
  },
  {
   "cell_type": "code",
   "execution_count": null,
   "metadata": {
    "collapsed": true
   },
   "outputs": [],
   "source": []
  }
 ],
 "metadata": {
  "kernelspec": {
   "display_name": "Python 2",
   "language": "python",
   "name": "python2"
  },
  "language_info": {
   "codemirror_mode": {
    "name": "ipython",
    "version": 3
   },
   "file_extension": ".py",
   "mimetype": "text/x-python",
   "name": "python",
   "nbconvert_exporter": "python",
   "pygments_lexer": "ipython3",
   "version": "3.6.2"
  }
 },
 "nbformat": 4,
 "nbformat_minor": 1
}
